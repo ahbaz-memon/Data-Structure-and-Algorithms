{
 "cells": [
  {
   "cell_type": "markdown",
   "metadata": {},
   "source": [
    "### Randomized Quick Sort"
   ]
  },
  {
   "cell_type": "code",
   "execution_count": 1,
   "metadata": {},
   "outputs": [],
   "source": [
    "import random"
   ]
  },
  {
   "cell_type": "code",
   "execution_count": 2,
   "metadata": {},
   "outputs": [],
   "source": [
    "def random_array(n):\n",
    "    minimum = int(input(\"Enter minimum number for random array -> \"))\n",
    "    maximum = int(input(\"Enter maximum number for random array -> \"))    \n",
    "    array = []\n",
    "    for i in range(n):\n",
    "        temp = random.randint(minimum, maximum)\n",
    "        array.append(temp)\n",
    "    return array "
   ]
  },
  {
   "cell_type": "code",
   "execution_count": 3,
   "metadata": {},
   "outputs": [],
   "source": [
    "def partitioning(array,low, high):\n",
    "    pivot = array[low]\n",
    "    i = low\n",
    "    j = high\n",
    "    while i < j:\n",
    "        while i < len(array) and array[i] <= pivot:\n",
    "            i+=1\n",
    "\n",
    "        while array[j] > pivot:\n",
    "            j-=1\n",
    "        \n",
    "        if i < j: \n",
    "            array[i], array[j] = array[j], array[i]\n",
    "    array[low], array[j] = array[j], array[low]\n",
    "    return j"
   ]
  },
  {
   "cell_type": "code",
   "execution_count": 4,
   "metadata": {},
   "outputs": [],
   "source": [
    "def random_partitioning(array,low,high):\n",
    "    r = random.randint(low, high)\n",
    "    array[r], array[low] = array[low], array[r]\n",
    "    return partitioning(array,low, high)"
   ]
  },
  {
   "cell_type": "code",
   "execution_count": 5,
   "metadata": {},
   "outputs": [],
   "source": [
    "def quick_sort(array, low, high):\n",
    "    if len(array) == 1:\n",
    "        return array\n",
    "    if low < high:\n",
    "        j = random_partitioning(array, low, high)\n",
    "        quick_sort(array, low, j - 1)\n",
    "        quick_sort(array, j + 1, high)"
   ]
  },
  {
   "cell_type": "code",
   "execution_count": 6,
   "metadata": {},
   "outputs": [
    {
     "name": "stdout",
     "output_type": "stream",
     "text": [
      "Enter the size of array -> 15\n",
      "Enter minimum number for random array -> 1\n",
      "Enter maximum number for random array -> 10\n"
     ]
    },
    {
     "data": {
      "text/plain": [
       "[9, 2, 4, 2, 7, 2, 8, 5, 8, 9, 3, 3, 7, 5, 2]"
      ]
     },
     "execution_count": 6,
     "metadata": {},
     "output_type": "execute_result"
    }
   ],
   "source": [
    "n = int(input(\"Enter the size of array -> \"))\n",
    "a = random_array(n)\n",
    "a"
   ]
  },
  {
   "cell_type": "code",
   "execution_count": 7,
   "metadata": {},
   "outputs": [
    {
     "data": {
      "text/plain": [
       "[2, 2, 2, 2, 3, 3, 4, 5, 5, 7, 7, 8, 8, 9, 9]"
      ]
     },
     "execution_count": 7,
     "metadata": {},
     "output_type": "execute_result"
    }
   ],
   "source": [
    "quick_sort(a, 0, len(a) - 1)\n",
    "a"
   ]
  },
  {
   "cell_type": "code",
   "execution_count": 8,
   "metadata": {},
   "outputs": [
    {
     "data": {
      "text/plain": [
       "[2, 2, 2, 2, 3, 3, 4, 5, 5, 7, 7, 8, 8, 9, 9]"
      ]
     },
     "execution_count": 8,
     "metadata": {},
     "output_type": "execute_result"
    }
   ],
   "source": [
    "sorted(a)"
   ]
  }
 ],
 "metadata": {
  "kernelspec": {
   "display_name": "Python [conda env:tensorflow_2] *",
   "language": "python",
   "name": "conda-env-tensorflow_2-py"
  },
  "language_info": {
   "codemirror_mode": {
    "name": "ipython",
    "version": 3
   },
   "file_extension": ".py",
   "mimetype": "text/x-python",
   "name": "python",
   "nbconvert_exporter": "python",
   "pygments_lexer": "ipython3",
   "version": "3.7.9"
  }
 },
 "nbformat": 4,
 "nbformat_minor": 4
}
