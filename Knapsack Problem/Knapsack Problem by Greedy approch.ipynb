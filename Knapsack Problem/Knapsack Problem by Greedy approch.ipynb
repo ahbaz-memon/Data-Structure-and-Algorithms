{
 "cells": [
  {
   "cell_type": "code",
   "execution_count": 1,
   "metadata": {},
   "outputs": [
    {
     "name": "stdout",
     "output_type": "stream",
     "text": [
      "Enter the number of items -> 7\n",
      "Enter the sack size -> 15\n"
     ]
    }
   ],
   "source": [
    "n = int(input(\"Enter the number of items -> \"))\n",
    "sack = int(input(\"Enter the sack size -> \"))"
   ]
  },
  {
   "cell_type": "code",
   "execution_count": 2,
   "metadata": {},
   "outputs": [],
   "source": [
    "class knapsack_object():\n",
    "    def __init__(self, num):\n",
    "        self.number = num\n",
    "        self.profit = int(input(\"Enter the profit -> \"))\n",
    "        self.weight = int(input(\"Enter the weight -> \"))\n",
    "        self.ratio = self.profit / self.weight\n",
    "        self.kept = 0"
   ]
  },
  {
   "cell_type": "code",
   "execution_count": 3,
   "metadata": {},
   "outputs": [],
   "source": [
    "def display(obj):\n",
    "    for o in obj:\n",
    "        print('object no. - ',o.number,' profit -',o.profit,' weight -',o.weight,' ratio -',o.ratio,' kept -',o.kept)"
   ]
  },
  {
   "cell_type": "code",
   "execution_count": 4,
   "metadata": {},
   "outputs": [
    {
     "name": "stdout",
     "output_type": "stream",
     "text": [
      "--->for 1 instance\n",
      "Enter the profit -> 10\n",
      "Enter the weight -> 2\n",
      "------------------------------\n",
      "--->for 2 instance\n",
      "Enter the profit -> 5\n",
      "Enter the weight -> 3\n",
      "------------------------------\n",
      "--->for 3 instance\n",
      "Enter the profit -> 15\n",
      "Enter the weight -> 5\n",
      "------------------------------\n",
      "--->for 4 instance\n",
      "Enter the profit -> 7\n",
      "Enter the weight -> 7\n",
      "------------------------------\n",
      "--->for 5 instance\n",
      "Enter the profit -> 6\n",
      "Enter the weight -> 1\n",
      "------------------------------\n",
      "--->for 6 instance\n",
      "Enter the profit -> 18\n",
      "Enter the weight -> 4\n",
      "------------------------------\n",
      "--->for 7 instance\n",
      "Enter the profit -> 3\n",
      "Enter the weight -> 1\n",
      "------------------------------\n"
     ]
    }
   ],
   "source": [
    "obj = []\n",
    "for i in range(n):\n",
    "    print('--->for',i + 1,'instance')\n",
    "    obj.append(knapsack_object(i + 1))\n",
    "    print('-'*30)"
   ]
  },
  {
   "cell_type": "code",
   "execution_count": 5,
   "metadata": {
    "scrolled": true
   },
   "outputs": [
    {
     "name": "stdout",
     "output_type": "stream",
     "text": [
      "object no. -  1  profit - 10  weight - 2  ratio - 5.0  kept - 0\n",
      "object no. -  2  profit - 5  weight - 3  ratio - 1.6666666666666667  kept - 0\n",
      "object no. -  3  profit - 15  weight - 5  ratio - 3.0  kept - 0\n",
      "object no. -  4  profit - 7  weight - 7  ratio - 1.0  kept - 0\n",
      "object no. -  5  profit - 6  weight - 1  ratio - 6.0  kept - 0\n",
      "object no. -  6  profit - 18  weight - 4  ratio - 4.5  kept - 0\n",
      "object no. -  7  profit - 3  weight - 1  ratio - 3.0  kept - 0\n"
     ]
    }
   ],
   "source": [
    "display(obj)"
   ]
  },
  {
   "cell_type": "code",
   "execution_count": 6,
   "metadata": {},
   "outputs": [],
   "source": [
    "def knapsack_greedy_approach(obj, sack):\n",
    "    obj = sorted(obj,key=lambda x:(x.ratio),reverse=True)\n",
    "    for o in obj:\n",
    "        if sack == 0:\n",
    "            break\n",
    "        if sack >= o.weight:\n",
    "            o.kept = 1\n",
    "            sack -= o.weight\n",
    "    if sack !=0:\n",
    "        for o in obj:\n",
    "            if o.kept == 0:\n",
    "                o.kept = sack/o.weight\n",
    "                sack -= (sack/o.weight) * o.weight"
   ]
  },
  {
   "cell_type": "code",
   "execution_count": 7,
   "metadata": {},
   "outputs": [],
   "source": [
    "knapsack_greedy_approach(obj, sack)"
   ]
  },
  {
   "cell_type": "code",
   "execution_count": 8,
   "metadata": {},
   "outputs": [
    {
     "name": "stdout",
     "output_type": "stream",
     "text": [
      "object no. -  1  profit - 10  weight - 2  ratio - 5.0  kept - 1\n",
      "object no. -  2  profit - 5  weight - 3  ratio - 1.6666666666666667  kept - 0.6666666666666666\n",
      "object no. -  3  profit - 15  weight - 5  ratio - 3.0  kept - 1\n",
      "object no. -  4  profit - 7  weight - 7  ratio - 1.0  kept - 0.0\n",
      "object no. -  5  profit - 6  weight - 1  ratio - 6.0  kept - 1\n",
      "object no. -  6  profit - 18  weight - 4  ratio - 4.5  kept - 1\n",
      "object no. -  7  profit - 3  weight - 1  ratio - 3.0  kept - 1\n"
     ]
    }
   ],
   "source": [
    "display(obj)"
   ]
  },
  {
   "cell_type": "code",
   "execution_count": null,
   "metadata": {},
   "outputs": [],
   "source": []
  }
 ],
 "metadata": {
  "kernelspec": {
   "display_name": "Python [conda env:tensorflow_2] *",
   "language": "python",
   "name": "conda-env-tensorflow_2-py"
  },
  "language_info": {
   "codemirror_mode": {
    "name": "ipython",
    "version": 3
   },
   "file_extension": ".py",
   "mimetype": "text/x-python",
   "name": "python",
   "nbconvert_exporter": "python",
   "pygments_lexer": "ipython3",
   "version": "3.7.9"
  }
 },
 "nbformat": 4,
 "nbformat_minor": 4
}
