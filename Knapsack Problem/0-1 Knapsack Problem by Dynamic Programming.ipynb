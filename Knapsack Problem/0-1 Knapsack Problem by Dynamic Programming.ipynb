{
 "cells": [
  {
   "cell_type": "code",
   "execution_count": 1,
   "metadata": {},
   "outputs": [
    {
     "name": "stdout",
     "output_type": "stream",
     "text": [
      "Enter the number of items -> 4\n",
      "Enter the sack size -> 8\n"
     ]
    }
   ],
   "source": [
    "n = int(input(\"Enter the number of items -> \"))\n",
    "sack = int(input(\"Enter the sack size -> \"))"
   ]
  },
  {
   "cell_type": "code",
   "execution_count": 2,
   "metadata": {},
   "outputs": [],
   "source": [
    "class knapsack_object():\n",
    "    def __init__(self, number, profit, weight):\n",
    "        self.number = number\n",
    "        self.profit = profit\n",
    "        self.weight = weight"
   ]
  },
  {
   "cell_type": "code",
   "execution_count": 3,
   "metadata": {},
   "outputs": [],
   "source": [
    "def display_object(obj):\n",
    "    for o in obj:\n",
    "        print('object no. - ',o.number,' profit -',o.profit,' weight -',o.weight)"
   ]
  },
  {
   "cell_type": "code",
   "execution_count": 4,
   "metadata": {},
   "outputs": [
    {
     "name": "stdout",
     "output_type": "stream",
     "text": [
      "--->for 1 instance\n",
      "Enter the profit -> 1\n",
      "Enter the weight -> 2\n",
      "------------------------------\n",
      "--->for 2 instance\n",
      "Enter the profit -> 2\n",
      "Enter the weight -> 3\n",
      "------------------------------\n",
      "--->for 3 instance\n",
      "Enter the profit -> 5\n",
      "Enter the weight -> 4\n",
      "------------------------------\n",
      "--->for 4 instance\n",
      "Enter the profit -> 6\n",
      "Enter the weight -> 5\n",
      "------------------------------\n"
     ]
    }
   ],
   "source": [
    "obj = [knapsack_object(0,0,0)]\n",
    "for i in range(n):\n",
    "    print('--->for',i + 1,'instance')\n",
    "    obj.append(knapsack_object((i + 1), int(input(\"Enter the profit -> \")), int(input(\"Enter the weight -> \"))))\n",
    "    print('-'*30)"
   ]
  },
  {
   "cell_type": "code",
   "execution_count": 5,
   "metadata": {},
   "outputs": [
    {
     "name": "stdout",
     "output_type": "stream",
     "text": [
      "object no. -  0  profit - 0  weight - 0\n",
      "object no. -  1  profit - 1  weight - 2\n",
      "object no. -  2  profit - 2  weight - 3\n",
      "object no. -  3  profit - 5  weight - 4\n",
      "object no. -  4  profit - 6  weight - 5\n"
     ]
    }
   ],
   "source": [
    "display_object(obj)"
   ]
  },
  {
   "cell_type": "code",
   "execution_count": 17,
   "metadata": {},
   "outputs": [],
   "source": [
    "def knapsack_dynamic_programming(table, obj, n, sack):\n",
    "    for i in range(n + 1):\n",
    "        for w in range(sack + 1):\n",
    "            if i == 0 or w == 0: \n",
    "                table[i][w] = 0\n",
    "            elif wt[i-1] <= w: \n",
    "                table[i][w] = max(val[i-1] + table[i-1][w-wt[i-1]],  table[i-1][w]) \n",
    "            else: \n",
    "                table[i][w] = table[i-1][w]\n",
    "    return table            "
   ]
  },
  {
   "cell_type": "code",
   "execution_count": 7,
   "metadata": {},
   "outputs": [
    {
     "data": {
      "text/plain": [
       "[[0, 0, 0, 0, 0, 0, 0, 0, 0],\n",
       " [0, 0, 0, 0, 0, 0, 0, 0, 0],\n",
       " [0, 0, 0, 0, 0, 0, 0, 0, 0],\n",
       " [0, 0, 0, 0, 0, 0, 0, 0, 0],\n",
       " [0, 0, 0, 0, 0, 0, 0, 0, 0]]"
      ]
     },
     "execution_count": 7,
     "metadata": {},
     "output_type": "execute_result"
    }
   ],
   "source": [
    "table = [[0] * (sack + 1)] * (n + 1)\n",
    "table"
   ]
  },
  {
   "cell_type": "code",
   "execution_count": 18,
   "metadata": {},
   "outputs": [
    {
     "name": "stdout",
     "output_type": "stream",
     "text": [
      "0\n",
      "0\n",
      "0\n",
      "0\n",
      "0\n",
      "0\n",
      "0\n",
      "0\n",
      "0\n",
      "-\n",
      "0\n",
      "1 0 1\n",
      "2 0 2\n",
      "2 0 2\n",
      "2 0 2\n",
      "2 0 2\n",
      "2 0 2\n",
      "2 0 2\n",
      "-\n",
      "0\n",
      "4 2 4\n",
      "6 2 6\n",
      "6 2 6\n",
      "6 2 6\n",
      "6 2 6\n",
      "6 2 6\n",
      "-\n",
      "0\n",
      "11 6 11\n",
      "16 6 16\n",
      "16 6 16\n",
      "16 6 16\n",
      "16 6 16\n",
      "-\n",
      "0\n",
      "22 16 22\n",
      "28 16 28\n",
      "28 16 28\n",
      "28 16 28\n",
      "-\n"
     ]
    }
   ],
   "source": [
    "table = knapsack_dynamic_programming(table, obj, n, sack)"
   ]
  },
  {
   "cell_type": "code",
   "execution_count": 14,
   "metadata": {},
   "outputs": [
    {
     "data": {
      "text/plain": [
       "[[0, 0, 1, 4, 11, 22, 28, 28, 28],\n",
       " [0, 0, 1, 4, 11, 22, 28, 28, 28],\n",
       " [0, 0, 1, 4, 11, 22, 28, 28, 28],\n",
       " [0, 0, 1, 4, 11, 22, 28, 28, 28],\n",
       " [0, 0, 1, 4, 11, 22, 28, 28, 28]]"
      ]
     },
     "execution_count": 14,
     "metadata": {},
     "output_type": "execute_result"
    }
   ],
   "source": [
    "table"
   ]
  },
  {
   "cell_type": "code",
   "execution_count": null,
   "metadata": {},
   "outputs": [],
   "source": []
  }
 ],
 "metadata": {
  "kernelspec": {
   "display_name": "Python [conda env:tensorflow_2] *",
   "language": "python",
   "name": "conda-env-tensorflow_2-py"
  },
  "language_info": {
   "codemirror_mode": {
    "name": "ipython",
    "version": 3
   },
   "file_extension": ".py",
   "mimetype": "text/x-python",
   "name": "python",
   "nbconvert_exporter": "python",
   "pygments_lexer": "ipython3",
   "version": "3.7.9"
  }
 },
 "nbformat": 4,
 "nbformat_minor": 4
}
