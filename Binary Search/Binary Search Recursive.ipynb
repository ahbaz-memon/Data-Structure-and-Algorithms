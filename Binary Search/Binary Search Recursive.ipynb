{
 "cells": [
  {
   "cell_type": "code",
   "execution_count": 20,
   "metadata": {},
   "outputs": [],
   "source": [
    "import random"
   ]
  },
  {
   "cell_type": "code",
   "execution_count": 22,
   "metadata": {},
   "outputs": [],
   "source": [
    "def binary_search_recursive(array, key, low, high):\n",
    "    if low == high:\n",
    "        if array[low] == key:\n",
    "            return low\n",
    "        else:\n",
    "            return None\n",
    "    else:\n",
    "        mid = (low + high) // 2\n",
    "        if array[mid] == key:\n",
    "            return mid\n",
    "        elif array[mid] > key:\n",
    "            return binary_search_recursive(array, key, low, mid - 1)\n",
    "        elif array[mid] < key:\n",
    "            return binary_search_recursive(array, key, mid + 1, high)    "
   ]
  },
  {
   "cell_type": "code",
   "execution_count": 13,
   "metadata": {},
   "outputs": [],
   "source": [
    "def random_array(n):\n",
    "    minimum = int(input(\"Enter minimum number for random array -> \"))\n",
    "    maximum = int(input(\"Enter maximum number for random array -> \"))    \n",
    "    array = []\n",
    "    for i in range(n):\n",
    "        temp = random.randint(minimum, maximum)\n",
    "        array.append(temp)\n",
    "    return array "
   ]
  },
  {
   "cell_type": "code",
   "execution_count": 17,
   "metadata": {},
   "outputs": [
    {
     "name": "stdout",
     "output_type": "stream",
     "text": [
      "Enter the size of array -> 20\n",
      "Enter the key to search -> 5\n"
     ]
    }
   ],
   "source": [
    "n = int(input(\"Enter the size of array -> \"))\n",
    "k = int(input(\"Enter the key to search -> \"))"
   ]
  },
  {
   "cell_type": "code",
   "execution_count": 18,
   "metadata": {},
   "outputs": [
    {
     "name": "stdout",
     "output_type": "stream",
     "text": [
      "Enter minimum number for random array -> 1\n",
      "Enter maximum number for random array -> 15\n"
     ]
    },
    {
     "data": {
      "text/plain": [
       "[9, 4, 11, 1, 5, 9, 10, 1, 5, 4, 12, 3, 14, 6, 1, 7, 1, 2, 1, 13]"
      ]
     },
     "execution_count": 18,
     "metadata": {},
     "output_type": "execute_result"
    }
   ],
   "source": [
    "a = sorted(random_array(n))\n",
    "a"
   ]
  },
  {
   "cell_type": "code",
   "execution_count": 30,
   "metadata": {},
   "outputs": [
    {
     "name": "stdout",
     "output_type": "stream",
     "text": [
      "you search is at index no. 3\n"
     ]
    }
   ],
   "source": [
    "a = [1,6,2,4,5,12]\n",
    "print(\"you search is at index no.\",binary_search_recursive(sorted(a), k, 0, len(a)))"
   ]
  },
  {
   "cell_type": "code",
   "execution_count": null,
   "metadata": {},
   "outputs": [],
   "source": []
  }
 ],
 "metadata": {
  "kernelspec": {
   "display_name": "Python [conda env:tensorflow_2] *",
   "language": "python",
   "name": "conda-env-tensorflow_2-py"
  },
  "language_info": {
   "codemirror_mode": {
    "name": "ipython",
    "version": 3
   },
   "file_extension": ".py",
   "mimetype": "text/x-python",
   "name": "python",
   "nbconvert_exporter": "python",
   "pygments_lexer": "ipython3",
   "version": "3.7.9"
  }
 },
 "nbformat": 4,
 "nbformat_minor": 4
}
