{
 "cells": [
  {
   "cell_type": "code",
   "execution_count": 1,
   "metadata": {},
   "outputs": [],
   "source": [
    "import random"
   ]
  },
  {
   "cell_type": "code",
   "execution_count": 2,
   "metadata": {},
   "outputs": [],
   "source": [
    "def binary_search_iterative(array, key):\n",
    "    array = sorted(array)\n",
    "    low = 0\n",
    "    high = len(array)\n",
    "    count = 0\n",
    "    while low <= high:\n",
    "        mid = (low + high) // 2\n",
    "        print(\"iteration no. \",count,\" mid :\",mid)\n",
    "        if array[mid] == key:\n",
    "            return mid\n",
    "        elif array[mid] > key:\n",
    "            high = mid - 1\n",
    "        elif array[mid] < key:\n",
    "            low = mid + 1\n",
    "        count += 1\n",
    "    return None        "
   ]
  },
  {
   "cell_type": "code",
   "execution_count": 3,
   "metadata": {},
   "outputs": [],
   "source": [
    "def random_array(n):\n",
    "    minimum = int(input(\"Enter minimum number for random array -> \"))\n",
    "    maximum = int(input(\"Enter maximum number for random array -> \"))    \n",
    "    array = []\n",
    "    for i in range(n):\n",
    "        temp = random.randint(minimum, maximum)\n",
    "        array.append(temp)\n",
    "    return array    "
   ]
  },
  {
   "cell_type": "code",
   "execution_count": 4,
   "metadata": {},
   "outputs": [
    {
     "name": "stdout",
     "output_type": "stream",
     "text": [
      "Enter the size of array -> 20\n",
      "Enter the key to search -> 5\n"
     ]
    }
   ],
   "source": [
    "n = int(input(\"Enter the size of array -> \"))\n",
    "k = int(input(\"Enter the key to search -> \"))"
   ]
  },
  {
   "cell_type": "code",
   "execution_count": 5,
   "metadata": {},
   "outputs": [
    {
     "name": "stdout",
     "output_type": "stream",
     "text": [
      "Enter minimum number for random array -> 2\n",
      "Enter maximum number for random array -> 15\n"
     ]
    },
    {
     "data": {
      "text/plain": [
       "[5, 4, 5, 2, 13, 12, 6, 9, 12, 6, 13, 6, 11, 6, 9, 6, 6, 10, 15, 10]"
      ]
     },
     "execution_count": 5,
     "metadata": {},
     "output_type": "execute_result"
    }
   ],
   "source": [
    "a = random_array(n)\n",
    "a"
   ]
  },
  {
   "cell_type": "code",
   "execution_count": 6,
   "metadata": {},
   "outputs": [
    {
     "name": "stdout",
     "output_type": "stream",
     "text": [
      "iteration no.  0  mid : 10\n",
      "iteration no.  1  mid : 4\n",
      "iteration no.  2  mid : 1\n",
      "iteration no.  3  mid : 2\n",
      "you search is at index no.  2\n"
     ]
    }
   ],
   "source": [
    "print(\"you search is at index no. \",binary_search_iterative(a, k))"
   ]
  }
 ],
 "metadata": {
  "kernelspec": {
   "display_name": "Python [conda env:tensorflow_2] *",
   "language": "python",
   "name": "conda-env-tensorflow_2-py"
  },
  "language_info": {
   "codemirror_mode": {
    "name": "ipython",
    "version": 3
   },
   "file_extension": ".py",
   "mimetype": "text/x-python",
   "name": "python",
   "nbconvert_exporter": "python",
   "pygments_lexer": "ipython3",
   "version": "3.7.9"
  }
 },
 "nbformat": 4,
 "nbformat_minor": 4
}
