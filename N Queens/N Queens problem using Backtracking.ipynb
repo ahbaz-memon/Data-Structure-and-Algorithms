{
 "cells": [
  {
   "cell_type": "code",
   "execution_count": 1,
   "metadata": {},
   "outputs": [],
   "source": [
    "def display_board(board):\n",
    "    for row in board:\n",
    "        for e in row:\n",
    "            print(e, end = '    ')\n",
    "        print('\\n')"
   ]
  },
  {
   "cell_type": "code",
   "execution_count": 2,
   "metadata": {},
   "outputs": [],
   "source": [
    "def is_safe(board, x, y, n):\n",
    "    #upper column\n",
    "    for row in range(x - 1, -1, -1):\n",
    "        if board[row][y] == 1:\n",
    "            return False\n",
    "    \n",
    "    # upper left diagonal\n",
    "    row  = x - 1\n",
    "    column = y - 1\n",
    "    while row >=0 and column >=0:\n",
    "        if board[row][column] == 1:\n",
    "            return False\n",
    "        row -= 1\n",
    "        column -= 1\n",
    "    \n",
    "    # upper right diagonal\n",
    "    row = x - 1\n",
    "    column = y + 1\n",
    "    while row >= 0 and column < n:\n",
    "        if board[row][column] == 1:\n",
    "            return False\n",
    "        row -= 1\n",
    "        column += 1\n",
    "    \n",
    "    return True"
   ]
  },
  {
   "cell_type": "code",
   "execution_count": null,
   "metadata": {},
   "outputs": [],
   "source": [
    "def n_queen(board, x, n):\n",
    "    if x == n:\n",
    "        return True\n",
    "    for column in range(n):\n",
    "        if is_safe(board, x, column, n):\n",
    "            board[x][column] = 1\n",
    "            if "
   ]
  },
  {
   "cell_type": "code",
   "execution_count": 3,
   "metadata": {},
   "outputs": [
    {
     "name": "stdout",
     "output_type": "stream",
     "text": [
      "Enter the number of Queen's for board -> 4\n"
     ]
    }
   ],
   "source": [
    "n = int(input(\"Enter the number of Queen's for board -> \"))"
   ]
  },
  {
   "cell_type": "code",
   "execution_count": 4,
   "metadata": {},
   "outputs": [],
   "source": [
    "board = [[0] * n] * n"
   ]
  },
  {
   "cell_type": "code",
   "execution_count": 5,
   "metadata": {},
   "outputs": [
    {
     "name": "stdout",
     "output_type": "stream",
     "text": [
      "0    0    0    0    \n",
      "\n",
      "0    0    0    0    \n",
      "\n",
      "0    0    0    0    \n",
      "\n",
      "0    0    0    0    \n",
      "\n"
     ]
    }
   ],
   "source": [
    "display_board(board)"
   ]
  },
  {
   "cell_type": "code",
   "execution_count": null,
   "metadata": {},
   "outputs": [],
   "source": []
  }
 ],
 "metadata": {
  "kernelspec": {
   "display_name": "Python [conda env:tensorflow_2] *",
   "language": "python",
   "name": "conda-env-tensorflow_2-py"
  },
  "language_info": {
   "codemirror_mode": {
    "name": "ipython",
    "version": 3
   },
   "file_extension": ".py",
   "mimetype": "text/x-python",
   "name": "python",
   "nbconvert_exporter": "python",
   "pygments_lexer": "ipython3",
   "version": "3.7.9"
  }
 },
 "nbformat": 4,
 "nbformat_minor": 4
}
