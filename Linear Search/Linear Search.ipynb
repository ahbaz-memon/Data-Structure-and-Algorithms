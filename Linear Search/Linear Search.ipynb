{
 "cells": [
  {
   "cell_type": "code",
   "execution_count": 1,
   "metadata": {},
   "outputs": [
    {
     "name": "stdout",
     "output_type": "stream",
     "text": [
      "Enter the number of elements you want to keep in array -> 8\n"
     ]
    }
   ],
   "source": [
    "N = int(input(\"Enter the number of elements you want to keep in array -> \"))"
   ]
  },
  {
   "cell_type": "code",
   "execution_count": 5,
   "metadata": {
    "scrolled": true
   },
   "outputs": [
    {
     "name": "stdout",
     "output_type": "stream",
     "text": [
      "Enter the element number 1 -> 7\n",
      "Enter the element number 2 -> 6\n",
      "Enter the element number 3 -> 5\n",
      "Enter the element number 4 -> 4\n",
      "Enter the element number 5 -> 3\n",
      "Enter the element number 6 -> 2\n",
      "Enter the element number 7 -> 6\n",
      "Enter the element number 8 -> 10\n"
     ]
    }
   ],
   "source": [
    "A = []\n",
    "for i in range(N):\n",
    "    temp = int(input(\"Enter the element number \" + str(i+1) + \" -> \"))\n",
    "    A.append(temp)"
   ]
  },
  {
   "cell_type": "code",
   "execution_count": 6,
   "metadata": {},
   "outputs": [
    {
     "name": "stdout",
     "output_type": "stream",
     "text": [
      "Enter the key which you want to search in array -> 10\n"
     ]
    }
   ],
   "source": [
    "key = int(input(\"Enter the key which you want to search in array -> \"))"
   ]
  },
  {
   "cell_type": "code",
   "execution_count": 7,
   "metadata": {},
   "outputs": [],
   "source": [
    "def Linear_Search(X, K):\n",
    "    found = None\n",
    "    for i in range(len(X)):\n",
    "        if X[i] == K:\n",
    "            found = i\n",
    "            break\n",
    "    return found"
   ]
  },
  {
   "cell_type": "code",
   "execution_count": null,
   "metadata": {},
   "outputs": [],
   "source": [
    "Linear_Search()"
   ]
  }
 ],
 "metadata": {
  "kernelspec": {
   "display_name": "Python [conda env:tensorflow_2] *",
   "language": "python",
   "name": "conda-env-tensorflow_2-py"
  },
  "language_info": {
   "codemirror_mode": {
    "name": "ipython",
    "version": 3
   },
   "file_extension": ".py",
   "mimetype": "text/x-python",
   "name": "python",
   "nbconvert_exporter": "python",
   "pygments_lexer": "ipython3",
   "version": "3.7.9"
  }
 },
 "nbformat": 4,
 "nbformat_minor": 4
}
